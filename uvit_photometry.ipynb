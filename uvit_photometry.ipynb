{
 "cells": [
  {
   "cell_type": "markdown",
   "metadata": {},
   "source": [
    "This python notebook performs aperture photometry on UVIT images processed using the CCDLAB pipeline. This is a simpler python implementation of the aperture photometry function of Gulab's Julia package UVITTools."
   ]
  },
  {
   "cell_type": "code",
   "execution_count": 222,
   "metadata": {},
   "outputs": [],
   "source": [
    "import numpy as np \n",
    "import matplotlib.pyplot as plt \n",
    "from astropy.io import fits\n",
    "from astropy.visualization import ZScaleInterval\n",
    "from photutils.aperture import ApertureStats, CircularAperture"
   ]
  },
  {
   "cell_type": "markdown",
   "metadata": {},
   "source": [
    "The following function plots the UVIT image in zscale."
   ]
  },
  {
   "cell_type": "code",
   "execution_count": 223,
   "metadata": {},
   "outputs": [],
   "source": [
    "def plot_image(image_data):\n",
    "    norm = ZScaleInterval()\n",
    "    vmin, vmax = norm.get_limits(image_data)\n",
    "    plt.imshow(image_data, vmin=vmin, vmax=vmax, interpolation='none', origin='lower')"
   ]
  },
  {
   "cell_type": "markdown",
   "metadata": {},
   "source": [
    "The following function performs aperture photometry using a circular aperture."
   ]
  },
  {
   "cell_type": "code",
   "execution_count": 224,
   "metadata": {},
   "outputs": [],
   "source": [
    "def aphot(data, xcen, ycen, radius, return_area=False):\n",
    "    \n",
    "    aperture = CircularAperture((xcen, ycen), r=radius)\n",
    "    aperstats = ApertureStats(data, aperture)\n",
    "    val = aperstats.sum\n",
    "    val_err = np.sqrt(val)\n",
    "    aperture_area = aperstats.sum_aper_area\n",
    "    \n",
    "    if return_area == True:\n",
    "        return val, val_err, aperture_area\n",
    "    elif return_area == False:\n",
    "        return val, val_err"
   ]
  },
  {
   "cell_type": "markdown",
   "metadata": {},
   "source": [
    "Function to calculate background corrected source count rate using the aphot function"
   ]
  },
  {
   "cell_type": "code",
   "execution_count": 225,
   "metadata": {},
   "outputs": [],
   "source": [
    "def do_photometry(image_data, exp_time=1):\n",
    "\n",
    "    src_cts, src_err, src_area = aphot(image_data, src_xcen,\n",
    "                                    src_ycen, src_aper_rad,\n",
    "                                    return_area=True)\n",
    "\n",
    "    bkg_cts, bkg_err, bkg_area = aphot(image_data, bkg_xcen,\n",
    "                                    bkg_ycen, bkg_aper_rad,\n",
    "                                    return_area=True)\n",
    "\n",
    "    area_scale = (src_area/bkg_area)\n",
    "    bkg_cts = bkg_cts * area_scale\n",
    "    bkg_rate = bkg_cts/exp_time\n",
    "    bkg_rate_err = np.sqrt(bkg_cts)/exp_time\n",
    "\n",
    "    src_rate = src_cts/exp_time\n",
    "    src_rate_err = np.sqrt(src_cts)/exp_time\n",
    "\n",
    "    net_src_rate = (src_cts - bkg_cts)/exp_time\n",
    "    net_src_rate_err = np.sqrt(src_rate_err**2 \n",
    "                        + bkg_rate_err**2)\n",
    "    \n",
    "    return net_src_rate, net_src_rate_err"
   ]
  },
  {
   "cell_type": "markdown",
   "metadata": {},
   "source": [
    "Following function supplies the zero point magnitudes and mean wavelengths for the various UVIT channels and filters. Data from Tandon et al. (2017, 2020). The following two functions are adaptions from Gulab's UVITTools."
   ]
  },
  {
   "cell_type": "code",
   "execution_count": 226,
   "metadata": {},
   "outputs": [],
   "source": [
    "def uvit_lm_uc_zp(channel, filter):\n",
    "    \n",
    "    if channel == 'FUV':\n",
    "        if filter == 'F1' or filter == 'CaF2' or filter == 'F148W':\n",
    "            zp = (18.097, 0.010)\n",
    "            λ_mean = 1481\n",
    "        elif filter == 'F2' or filter == 'BaF2' or filter == 'F154W':\n",
    "            zp = (17.771, 0.010)\n",
    "            λ_mean = 1541\n",
    "        elif filter == 'F3' or filter == 'Sapphire' or filter == 'F169M':\n",
    "            zp = (17.410, 0.010)\n",
    "            λ_mean = 1608\n",
    "        elif filter == 'F5' or filter == 'Silica' or filter == 'F172M':\n",
    "            zp = (16.274, 0.020)\n",
    "            λ_mean = 1717\n",
    "        \n",
    "    elif channel == 'NUV':\n",
    "        if filter == 'F1' or filter == 'Silica-1' or filter == 'N242W':\n",
    "            zp = (19.763, 0.002)\n",
    "            λ_mean = 2418\n",
    "        elif filter == 'F2' or filter == 'NUVB15' or filter == 'N219M':\n",
    "            zp = (16.654, 0.020)\n",
    "            λ_mean = 2196\n",
    "        elif filter == 'F3' or filter == 'NUVB13' or filter == 'N245M':\n",
    "            zp = (18.452, 0.005)\n",
    "            λ_mean = 2447\n",
    "        elif filter == 'F5' or filter == 'NUVB4' or filter == 'N263M':\n",
    "            zp = (18.146, 0.010)\n",
    "            λ_mean = 2632\n",
    "        elif filter == 'F6' or filter == 'NUVN2' or filter == 'N279N':\n",
    "            zp = (16.416, 0.010)\n",
    "            λ_mean = 2792\n",
    "    \n",
    "    uc = 10**(-0.4 *  (zp[0] + 2.407))/λ_mean**2\n",
    "    return λ_mean, uc, zp"
   ]
  },
  {
   "cell_type": "markdown",
   "metadata": {},
   "source": [
    "The following function calculates the flux and magnitude from the count rate obtained by aperture photometry."
   ]
  },
  {
   "cell_type": "code",
   "execution_count": 227,
   "metadata": {},
   "outputs": [],
   "source": [
    "def ctr2flux_mag(channel, filter, cps, cps_err=0):\n",
    "    \n",
    "    Lambda_Mean, UC, ZP = uvit_lm_uc_zp(channel, filter)\n",
    "    #The error on f_λ can be improved (?)\n",
    "    f_λ = (cps * UC, cps_err * UC)\n",
    "    Magnitude = -2.5*np.log10(cps) + ZP[0]\n",
    "    Magnitude_Err = np.sqrt(6.25*(cps_err/cps)**2 + ZP[1]**2)\n",
    "    Magnitude = (Magnitude, Magnitude_Err)\n",
    "\n",
    "    return Lambda_Mean, f_λ, Magnitude"
   ]
  },
  {
   "cell_type": "markdown",
   "metadata": {},
   "source": [
    "Enter the image file name, source and background aperture details and run the notebook.\n",
    "The aperture details can be taken from DS9 regions."
   ]
  },
  {
   "cell_type": "code",
   "execution_count": 228,
   "metadata": {},
   "outputs": [],
   "source": [
    "image_filename = 'meg-6-30-15_FUV_CaF2___MASTER_IMAGE_archive.fits'\n",
    "\n",
    "src_xcen, src_ycen = 3093.7362, 1824.4386\n",
    "src_aper_rad = 25\n",
    "\n",
    "bkg_xcen, bkg_ycen = 3246.7097, 1758.9792 \n",
    "bkg_aper_rad = 60"
   ]
  },
  {
   "cell_type": "code",
   "execution_count": 229,
   "metadata": {},
   "outputs": [
    {
     "name": "stdout",
     "output_type": "stream",
     "text": [
      "**********************************************************\n",
      "source: meg-6-30-15\n",
      "instrument: UVIT\n",
      "channel: FUV\n",
      "filter: CaF2\n",
      "Mean wavelength (Å): 1481\n",
      "Net exposure time (s): 6029.748\n",
      "Mean BJD of observation: 2459045.9928806\n",
      "Net count rate (ct/s): 0.27921039144459947 +/- 0.008605070879954397\n",
      "f_λ (erg/cm^2/s/Å): 8.002422197367445e-16 +/- 2.466291095520729e-17\n",
      "Magnitude (AB system): 19.48217105624802 +/- 0.07769450221452258\n",
      "**********************************************************\n"
     ]
    }
   ],
   "source": [
    "hdul = fits.open(image_filename)\n",
    "image_data = hdul[0].data\n",
    "image_header = hdul[0].header\n",
    "hdul.close()\n",
    "\n",
    "source_id = image_header['SOURCEID']\n",
    "instrument = image_header['INSTRUME']\n",
    "channel = image_header['DETECTOR']\n",
    "filter = image_header['FILTERID']\n",
    "exp_time = image_header['EXP_TIME']\n",
    "mean_obs_bjd = image_header['MEANBJD']\n",
    "\n",
    "cts, err = do_photometry(image_data, exp_time)\n",
    "\n",
    "l_mean, f_lambda, magnitude = ctr2flux_mag(channel, filter, cts, err)\n",
    "\n",
    "print('**********************************************************')\n",
    "print(f'source: {source_id}')\n",
    "print(f'instrument: {instrument}')\n",
    "print(f'channel: {channel}')\n",
    "print(f'filter: {filter}')\n",
    "print(f'Mean wavelength (Å): {l_mean}')\n",
    "print(f'Net exposure time (s): {exp_time}')\n",
    "print(f'Mean BJD of observation: {mean_obs_bjd}')\n",
    "print(f'Net count rate (ct/s): {cts} +/- {err}')\n",
    "print(f'f_λ (erg/cm^2/s/Å): {f_lambda[0]} +/- {f_lambda[1]}')\n",
    "print(f'Magnitude (AB system): {magnitude[0]} +/- {magnitude[1]}')\n",
    "print('**********************************************************')"
   ]
  }
 ],
 "metadata": {
  "kernelspec": {
   "display_name": "base",
   "language": "python",
   "name": "python3"
  },
  "language_info": {
   "codemirror_mode": {
    "name": "ipython",
    "version": 3
   },
   "file_extension": ".py",
   "mimetype": "text/x-python",
   "name": "python",
   "nbconvert_exporter": "python",
   "pygments_lexer": "ipython3",
   "version": "3.10.9"
  },
  "orig_nbformat": 4,
  "vscode": {
   "interpreter": {
    "hash": "b94be0aba6cb3149dacbb06fd13fd0d4b8913b738afbdb8991ca2dc875286c9e"
   }
  }
 },
 "nbformat": 4,
 "nbformat_minor": 2
}
